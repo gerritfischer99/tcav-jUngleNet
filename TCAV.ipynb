{
 "cells": [
  {
   "attachments": {},
   "cell_type": "markdown",
   "metadata": {},
   "source": [
    "# Testing with Concept Activation Vectors (TCAV) on Anthropotect Dataset and jUngle-net-rgb model"
   ]
  },
  {
   "cell_type": "code",
   "execution_count": 1,
   "metadata": {},
   "outputs": [],
   "source": [
    "#.....torch imports...................\n",
    "import torch\n",
    "from torch.nn import Sigmoid,Tanh\n",
    "\n",
    "#.....Captum imports..................\n",
    "from captum.attr import LayerIntegratedGradients\n",
    "from captum.concept import TCAV\n",
    "\n",
    "#.....jUngleNet imports...............\n",
    "import tjects\n",
    "\n",
    "\n",
    "#.....helper function import..........\n",
    "from utils import *"
   ]
  },
  {
   "attachments": {},
   "cell_type": "markdown",
   "metadata": {},
   "source": [
    "## Assembling Concepts"
   ]
  },
  {
   "attachments": {},
   "cell_type": "markdown",
   "metadata": {},
   "source": [
    "Here we assemble our concepts. The variable n controls, how many random datasets are used.\n",
    "In order to later test, whether a concept behaves significantly different from random data, the experimental sets also contain sets that only contain random data. \n",
    "Due to hardware limitations we could not use all combinations of random concepts. \n",
    "\n",
    "DTD and random data should be stored in `data/tcav/images/concepts/`. Eurosat concepts should be stored in `data/eurosat/concepts/`. We used 50 eurosat images for each concept. The remaining eurosat images should also be stored somewhere if you plan to use the method of stitching multiple eurosat images together.\n",
    "\n",
    "If you are using Eurosat concepts, the `get_tensor_from_EuroSAT_filename` function in `utils.py` has to be adjusted to use the desired filling mode to get 256 px x 256 px images. If the method of stitching multiple images together is chosen, the path from which the additional images are chosen has to be adjusted in the same function."
   ]
  },
  {
   "cell_type": "code",
   "execution_count": 2,
   "metadata": {},
   "outputs": [
    {
     "name": "stdout",
     "output_type": "stream",
     "text": [
      "[Concept(2, 'random_1'), Concept(3, 'random_2'), Concept(4, 'random_3'), Concept(5, 'random_4'), Concept(6, 'random_5'), Concept(7, 'random_6'), Concept(8, 'random_7'), Concept(9, 'random_8'), Concept(10, 'random_9')]\n"
     ]
    },
    {
     "data": {
      "text/plain": [
       "[[Concept(0, 'chequered'), Concept(1, 'random_0')],\n",
       " [Concept(0, 'chequered'), Concept(2, 'random_1')],\n",
       " [Concept(0, 'chequered'), Concept(3, 'random_2')],\n",
       " [Concept(0, 'chequered'), Concept(4, 'random_3')],\n",
       " [Concept(0, 'chequered'), Concept(5, 'random_4')],\n",
       " [Concept(0, 'chequered'), Concept(6, 'random_5')],\n",
       " [Concept(0, 'chequered'), Concept(7, 'random_6')],\n",
       " [Concept(0, 'chequered'), Concept(8, 'random_7')],\n",
       " [Concept(0, 'chequered'), Concept(9, 'random_8')],\n",
       " [Concept(0, 'chequered'), Concept(10, 'random_9')],\n",
       " [Concept(1, 'random_0'), Concept(2, 'random_1')],\n",
       " [Concept(1, 'random_0'), Concept(3, 'random_2')],\n",
       " [Concept(1, 'random_0'), Concept(4, 'random_3')],\n",
       " [Concept(1, 'random_0'), Concept(5, 'random_4')],\n",
       " [Concept(1, 'random_0'), Concept(6, 'random_5')],\n",
       " [Concept(1, 'random_0'), Concept(7, 'random_6')],\n",
       " [Concept(1, 'random_0'), Concept(8, 'random_7')],\n",
       " [Concept(1, 'random_0'), Concept(9, 'random_8')],\n",
       " [Concept(1, 'random_0'), Concept(10, 'random_9')],\n",
       " [Concept(2, 'random_1'), Concept(3, 'random_2')],\n",
       " [Concept(2, 'random_1'), Concept(4, 'random_3')],\n",
       " [Concept(2, 'random_1'), Concept(5, 'random_4')],\n",
       " [Concept(2, 'random_1'), Concept(6, 'random_5')],\n",
       " [Concept(2, 'random_1'), Concept(7, 'random_6')],\n",
       " [Concept(2, 'random_1'), Concept(8, 'random_7')],\n",
       " [Concept(2, 'random_1'), Concept(9, 'random_8')],\n",
       " [Concept(2, 'random_1'), Concept(10, 'random_9')],\n",
       " [Concept(3, 'random_2'), Concept(4, 'random_3')],\n",
       " [Concept(3, 'random_2'), Concept(5, 'random_4')],\n",
       " [Concept(3, 'random_2'), Concept(6, 'random_5')],\n",
       " [Concept(3, 'random_2'), Concept(7, 'random_6')],\n",
       " [Concept(3, 'random_2'), Concept(8, 'random_7')],\n",
       " [Concept(3, 'random_2'), Concept(9, 'random_8')],\n",
       " [Concept(3, 'random_2'), Concept(10, 'random_9')]]"
      ]
     },
     "execution_count": 2,
     "metadata": {},
     "output_type": "execute_result"
    }
   ],
   "source": [
    "# assemble random concepts\n",
    "concepts_path = \"data/tcav/image/concepts/\"\n",
    "\n",
    "random_0_concept = assemble_concept(\"random_0\", 1, concepts_path=concepts_path)\n",
    "\n",
    "n = 9\n",
    "random_concepts = [assemble_concept('random_' + str(i+1), i+2, concepts_path=concepts_path) for i in range(0, n)]\n",
    "\n",
    "# assemble concepts to test\n",
    "concepts_path = \"data/eurosat/concepts/\"\n",
    "concept = assemble_concept(\"Pasture\", 0, concepts_path=concepts_path)\n",
    "\n",
    "# assemble experimental sets\n",
    "experimental_sets = [[concept, random_0_concept]]\n",
    "experimental_sets.extend([[concept, random_concept] for random_concept in random_concepts])\n",
    "\n",
    "experimental_sets.append([random_0_concept, random_concepts[0]])\n",
    "experimental_sets.extend([[random_0_concept, random_concept] for random_concept in random_concepts[1:]])\n",
    "experimental_sets.extend([[random_concepts[0], random_concept] for random_concept in random_concepts[1:]])\n",
    "experimental_sets.extend([[random_concepts[1], random_concept] for random_concept in random_concepts[2:]])\n",
    "# experimental_sets.extend([[random_concepts[2], random_concept] for random_concept in random_concepts[3:]])\n",
    "# experimental_sets.extend([[random_concepts[3], random_concept] for random_concept in random_concepts[4:]])\n",
    "# experimental_sets.extend([[random_concepts[4], random_concept] for random_concept in random_concepts[5:]])\n",
    "# experimental_sets.extend([[random_concepts[5], random_concept] for random_concept in random_concepts[6:]])\n",
    "# experimental_sets.extend([[random_concepts[6], random_concept] for random_concept in random_concepts[7:]])\n",
    "# experimental_sets.extend([[random_concepts[7], random_concept] for random_concept in random_concepts[8:]])\n",
    "# experimental_sets.extend([[random_concepts[8], random_concept] for random_concept in random_concepts[9:]])\n",
    "\n",
    "experimental_sets"
   ]
  },
  {
   "attachments": {},
   "cell_type": "markdown",
   "metadata": {},
   "source": [
    "## Defining jUngle-net-rgb Model"
   ]
  },
  {
   "attachments": {},
   "cell_type": "markdown",
   "metadata": {},
   "source": [
    "We used a pretrained RGB version of jUngleNet. This part has to be rewritten for the multispectral network or for a network trained with different channels."
   ]
  },
  {
   "cell_type": "code",
   "execution_count": 3,
   "metadata": {},
   "outputs": [],
   "source": [
    "model = tjects.experiments.asos.modules.Model(in_channels=3, n_unet_maps=3,n_classes=1, batch_norm=True, double_conv=False, dropout=None, final_activation=Sigmoid(), unet_activation=Tanh(), unet_base_channels=32, unet_mode='bilinear')\n",
    "checkpoint = torch.load('./asos_anthroprotect_rgb-channels.pt',map_location=torch.device('cpu'))\n",
    "state_dict = checkpoint['model_state_dict']\n",
    "model.load_state_dict(state_dict)\n",
    "model.to('cpu')\n",
    "model.eval();"
   ]
  },
  {
   "cell_type": "markdown",
   "metadata": {},
   "source": [
    "# Computing TCAV Scores"
   ]
  },
  {
   "attachments": {},
   "cell_type": "markdown",
   "metadata": {},
   "source": [
    "Here we define the layers TCAV is to be computed on, as well as the TCAV function."
   ]
  },
  {
   "cell_type": "code",
   "execution_count": 4,
   "metadata": {},
   "outputs": [
    {
     "name": "stderr",
     "output_type": "stream",
     "text": [
      "d:\\Programme\\Anaconda\\envs\\tcav\\lib\\site-packages\\captum\\concept\\_utils\\classifier.py:130: UserWarning:\n",
      "\n",
      "Using default classifier for TCAV which keeps input both train and test datasets in the memory. Consider defining your own classifier that doesn't rely heavily on memory, for large number of concepts, by extending `Classifer` abstract class\n",
      "\n"
     ]
    }
   ],
   "source": [
    "layers=['unet.enc1','unet.enc2','unet.enc3','unet.enc4']\n",
    "# layers=['unet.dec1', 'unet.dec2', 'unet.dec3', 'unet.dec4']#, 'unet.conv_out']\n",
    "# layers=['classifier.1', 'classifier.4','classifier.7','classifier.11', 'classifier.13', 'final_activation']\n",
    "\n",
    "mytcav = TCAV(model=model,\n",
    "              layers=layers,\n",
    "              layer_attr_method = LayerIntegratedGradients(\n",
    "                model, None, multiply_by_inputs=False))\n"
   ]
  },
  {
   "attachments": {},
   "cell_type": "markdown",
   "metadata": {},
   "source": [
    "We have to run TCAV for multiple sets of input data as we cannot run it with all the data at once due to hardware limitations. As the CAVs are saved after the first iteration and reused in later iterations this does not pose a problem."
   ]
  },
  {
   "cell_type": "code",
   "execution_count": 5,
   "metadata": {},
   "outputs": [
    {
     "name": "stderr",
     "output_type": "stream",
     "text": [
      "d:\\Programme\\Anaconda\\envs\\tcav\\lib\\site-packages\\captum\\_utils\\models\\linear_model\\train.py:351: UserWarning:\n",
      "\n",
      "Creating a tensor from a list of numpy.ndarrays is extremely slow. Please consider converting the list to a single numpy.ndarray with numpy.array() before converting to a tensor. (Triggered internally at C:\\cb\\pytorch_1000000000000\\work\\torch\\csrc\\utils\\tensor_new.cpp:233.)\n",
      "\n"
     ]
    }
   ],
   "source": [
    "scores = []\n",
    "for i in range(0,91,10):\n",
    "    input = load_image_tensors('anthropo', transform=False, start=i) # set input image class here\n",
    "    input_tensors = torch.stack([transform(img) for img in input])\n",
    "\n",
    "    score = mytcav.interpret(inputs=input_tensors, experimental_sets=experimental_sets, n_steps=5)\n",
    "    scores.append(score)"
   ]
  },
  {
   "attachments": {},
   "cell_type": "markdown",
   "metadata": {},
   "source": [
    "# Statistical significance testing of concepts"
   ]
  },
  {
   "attachments": {},
   "cell_type": "markdown",
   "metadata": {},
   "source": [
    "Here we test whether the classification is significantly sensitive to the chosen concepts. The results are then plotted with the bars indicating the mean TCAV score and the black line representing its standard deviation. Insignificant scores are set to 0.01. The variable n has to be set to the number of random sets used."
   ]
  },
  {
   "cell_type": "code",
   "execution_count": 7,
   "metadata": {},
   "outputs": [
    {
     "data": {
      "image/png": "[encoded data removed]",
      "text/plain": [
       "<Figure size 640x480 with 1 Axes>"
      ]
     },
     "metadata": {},
     "output_type": "display_data"
    }
   ],
   "source": [
    "n = 10\n",
    "plot_results(layers,experimental_sets,scores,n)"
   ]
  }
 ],
 "metadata": {
  "kernelspec": {
   "display_name": "tcav",
   "language": "python",
   "name": "python3"
  },
  "language_info": {
   "codemirror_mode": {
    "name": "ipython",
    "version": 3
   },
   "file_extension": ".py",
   "mimetype": "text/x-python",
   "name": "python",
   "nbconvert_exporter": "python",
   "pygments_lexer": "ipython3",
   "version": "3.9.16"
  },
  "vscode": {
   "interpreter": {
    "hash": "8ea8515639d497ad85e1e7dcfcbc9348795a94d190f7bb6cf052903915a9f1a4"
   }
  }
 },
 "nbformat": 4,
 "nbformat_minor": 2
}
